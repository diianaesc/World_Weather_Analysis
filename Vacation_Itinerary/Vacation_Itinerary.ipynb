{
 "cells": [
  {
   "cell_type": "markdown",
   "metadata": {},
   "source": [
    "## Deliverable 3. Create a Travel Itinerary Map."
   ]
  },
  {
   "cell_type": "code",
   "execution_count": 13,
   "metadata": {},
   "outputs": [],
   "source": [
    "# Dependencies and Setup\n",
    "import pandas as pd\n",
    "import requests\n",
    "import gmaps\n",
    "import numpy as np\n",
    "\n",
    "# Import API key\n",
    "from config import g_key\n",
    "\n",
    "# Configure gmaps\n",
    "gmaps.configure(api_key=g_key)"
   ]
  },
  {
   "cell_type": "code",
   "execution_count": 14,
   "metadata": {},
   "outputs": [
    {
     "data": {
      "text/html": [
       "<div>\n",
       "<style scoped>\n",
       "    .dataframe tbody tr th:only-of-type {\n",
       "        vertical-align: middle;\n",
       "    }\n",
       "\n",
       "    .dataframe tbody tr th {\n",
       "        vertical-align: top;\n",
       "    }\n",
       "\n",
       "    .dataframe thead th {\n",
       "        text-align: right;\n",
       "    }\n",
       "</style>\n",
       "<table border=\"1\" class=\"dataframe\">\n",
       "  <thead>\n",
       "    <tr style=\"text-align: right;\">\n",
       "      <th></th>\n",
       "      <th>City_ID</th>\n",
       "      <th>City</th>\n",
       "      <th>Country</th>\n",
       "      <th>Max Temp</th>\n",
       "      <th>Current Description</th>\n",
       "      <th>Lat</th>\n",
       "      <th>Lng</th>\n",
       "      <th>Hotel Name</th>\n",
       "    </tr>\n",
       "  </thead>\n",
       "  <tbody>\n",
       "    <tr>\n",
       "      <th>0</th>\n",
       "      <td>1</td>\n",
       "      <td>Chardara</td>\n",
       "      <td>KZ</td>\n",
       "      <td>77.94</td>\n",
       "      <td>overcast clouds</td>\n",
       "      <td>41.2547</td>\n",
       "      <td>67.9692</td>\n",
       "      <td>Жанаргул</td>\n",
       "    </tr>\n",
       "    <tr>\n",
       "      <th>1</th>\n",
       "      <td>10</td>\n",
       "      <td>Lata</td>\n",
       "      <td>PT</td>\n",
       "      <td>85.50</td>\n",
       "      <td>scattered clouds</td>\n",
       "      <td>40.1629</td>\n",
       "      <td>-8.3327</td>\n",
       "      <td>Casa Maquia</td>\n",
       "    </tr>\n",
       "    <tr>\n",
       "      <th>2</th>\n",
       "      <td>16</td>\n",
       "      <td>Puerto Ayora</td>\n",
       "      <td>EC</td>\n",
       "      <td>75.16</td>\n",
       "      <td>broken clouds</td>\n",
       "      <td>-0.7393</td>\n",
       "      <td>-90.3518</td>\n",
       "      <td>Finch Bay Galapagos Hotel</td>\n",
       "    </tr>\n",
       "    <tr>\n",
       "      <th>3</th>\n",
       "      <td>18</td>\n",
       "      <td>Boyolangu</td>\n",
       "      <td>ID</td>\n",
       "      <td>76.37</td>\n",
       "      <td>broken clouds</td>\n",
       "      <td>-8.1181</td>\n",
       "      <td>111.8935</td>\n",
       "      <td>Yos ega cv</td>\n",
       "    </tr>\n",
       "    <tr>\n",
       "      <th>4</th>\n",
       "      <td>25</td>\n",
       "      <td>San Andres</td>\n",
       "      <td>CO</td>\n",
       "      <td>82.42</td>\n",
       "      <td>broken clouds</td>\n",
       "      <td>12.5847</td>\n",
       "      <td>-81.7006</td>\n",
       "      <td>Hotel Arena Blanca</td>\n",
       "    </tr>\n",
       "  </tbody>\n",
       "</table>\n",
       "</div>"
      ],
      "text/plain": [
       "   City_ID          City Country  Max Temp Current Description      Lat  \\\n",
       "0        1      Chardara      KZ     77.94     overcast clouds  41.2547   \n",
       "1       10          Lata      PT     85.50    scattered clouds  40.1629   \n",
       "2       16  Puerto Ayora      EC     75.16       broken clouds  -0.7393   \n",
       "3       18     Boyolangu      ID     76.37       broken clouds  -8.1181   \n",
       "4       25    San Andres      CO     82.42       broken clouds  12.5847   \n",
       "\n",
       "        Lng                 Hotel Name  \n",
       "0   67.9692                   Жанаргул  \n",
       "1   -8.3327                Casa Maquia  \n",
       "2  -90.3518  Finch Bay Galapagos Hotel  \n",
       "3  111.8935                 Yos ega cv  \n",
       "4  -81.7006         Hotel Arena Blanca  "
      ]
     },
     "execution_count": 14,
     "metadata": {},
     "output_type": "execute_result"
    }
   ],
   "source": [
    "# 1. Read the WeatherPy_vacation.csv into a DataFrame.\n",
    "vacation_df = pd.read_csv(\"Vacation_Search/WeatherPy_vacation.csv\")\n",
    "vacation_df.head()"
   ]
  },
  {
   "cell_type": "code",
   "execution_count": 17,
   "metadata": {},
   "outputs": [],
   "source": [
    "# 2. Using the template add the city name, the country code, the weather description and maximum temperature for the city.\n",
    "info_box_template = \"\"\"\n",
    "<dl>\n",
    "<dt>City</dt><dd>{City}</dd>\n",
    "<dt>Country</dt><dd>{Country}</dd>\n",
    "<dt>Current Weather</dt><dd>{Current Description} and {Max Temp} °F</dd>\n",
    "</dl>\n",
    "\"\"\"\n",
    "\n",
    "# 3a. Get the data from each row and add it to the formatting template and store the data in a list.\n",
    "hotel_info = [info_box_template.format(**row) for index, row in vacation_df.iterrows()]\n",
    "\n",
    "# 3b. Get the latitude and longitude from each row and store in a new DataFrame.\n",
    "locations = vacation_df[[\"Lat\", \"Lng\"]]"
   ]
  },
  {
   "cell_type": "code",
   "execution_count": 18,
   "metadata": {},
   "outputs": [
    {
     "data": {
      "application/vnd.jupyter.widget-view+json": {
       "model_id": "2072723b560047848c8f94dace2aafd2",
       "version_major": 2,
       "version_minor": 0
      },
      "text/plain": [
       "Figure(layout=FigureLayout(height='420px'))"
      ]
     },
     "metadata": {},
     "output_type": "display_data"
    }
   ],
   "source": [
    "# 4a. Add a marker layer for each city to the map.\n",
    "fig = gmaps.figure(center=(30.0, 31.0), zoom_level=1.5)\n",
    "marker_layer = gmaps.marker_layer(locations, info_box_content=hotel_info)\n",
    "fig.add_layer(marker_layer)\n",
    "\n",
    "# 4b. Display the figure\n",
    "fig"
   ]
  },
  {
   "cell_type": "code",
   "execution_count": 20,
   "metadata": {},
   "outputs": [],
   "source": [
    "# From the map above pick 4 cities and create a vacation itinerary route to travel between the four cities. \n",
    "# 5. Create DataFrames for each city by filtering the 'vacation_df' using the loc method. \n",
    "# Hint: The starting and ending city should be the same city.\n",
    "\n",
    "vacation_start = vacation_df.loc[vacation_df['City'] == \"Acapulco\"]\n",
    "vacation_end = vacation_df.loc[vacation_df['City'] == \"Acapulco\"]\n",
    "vacation_stop1 = vacation_df.loc[vacation_df['City'] == \"Pinotepa Nacional\"]\n",
    "vacation_stop2 = vacation_df.loc[vacation_df['City'] == \"Puerto Escondido\"]\n",
    "vacation_stop3 = vacation_df.loc[vacation_df['City'] == \"Pochutla\"] "
   ]
  },
  {
   "cell_type": "code",
   "execution_count": 21,
   "metadata": {},
   "outputs": [],
   "source": [
    "# 6. Get the latitude-longitude pairs as tuples from each city DataFrame using the to_numpy function and list indexing.\n",
    "start = (vacation_start[\"Lat\"].to_numpy()[0], vacation_start[\"Lng\"].to_numpy()[0])\n",
    "end = (vacation_end['Lat'].to_numpy()[0], vacation_end['Lng'].to_numpy()[0])\n",
    "stop1 = (vacation_stop1['Lat'].to_numpy()[0], vacation_stop1['Lng'].to_numpy()[0])\n",
    "stop2 = (vacation_stop2['Lat'].to_numpy()[0], vacation_stop2['Lng'].to_numpy()[0])\n",
    "stop3 = (vacation_stop3['Lat'].to_numpy()[0], vacation_stop3['Lng'].to_numpy()[0])"
   ]
  },
  {
   "cell_type": "code",
   "execution_count": 22,
   "metadata": {
    "scrolled": true
   },
   "outputs": [
    {
     "data": {
      "application/vnd.jupyter.widget-view+json": {
       "model_id": "2021db22588441b0806c6337f658d399",
       "version_major": 2,
       "version_minor": 0
      },
      "text/plain": [
       "Figure(layout=FigureLayout(height='420px'))"
      ]
     },
     "metadata": {},
     "output_type": "display_data"
    }
   ],
   "source": [
    "# 7. Create a direction layer map using the start and end latitude-longitude pairs,\n",
    "# and stop1, stop2, and stop3 as the waypoints. The travel_mode should be \"DRIVING\", \"BICYCLING\", or \"WALKING\".\n",
    "fig = gmaps.figure()\n",
    "vacation_road_trip = gmaps.directions_layer(start, end, waypoints=[stop1, stop2, stop3], travel_mode='DRIVING')\n",
    "fig.add_layer(vacation_road_trip)\n",
    "fig"
   ]
  },
  {
   "cell_type": "code",
   "execution_count": 26,
   "metadata": {},
   "outputs": [
    {
     "data": {
      "text/html": [
       "<div>\n",
       "<style scoped>\n",
       "    .dataframe tbody tr th:only-of-type {\n",
       "        vertical-align: middle;\n",
       "    }\n",
       "\n",
       "    .dataframe tbody tr th {\n",
       "        vertical-align: top;\n",
       "    }\n",
       "\n",
       "    .dataframe thead th {\n",
       "        text-align: right;\n",
       "    }\n",
       "</style>\n",
       "<table border=\"1\" class=\"dataframe\">\n",
       "  <thead>\n",
       "    <tr style=\"text-align: right;\">\n",
       "      <th></th>\n",
       "      <th>City_ID</th>\n",
       "      <th>City</th>\n",
       "      <th>Country</th>\n",
       "      <th>Max Temp</th>\n",
       "      <th>Current Description</th>\n",
       "      <th>Lat</th>\n",
       "      <th>Lng</th>\n",
       "      <th>Hotel Name</th>\n",
       "    </tr>\n",
       "  </thead>\n",
       "  <tbody>\n",
       "    <tr>\n",
       "      <th>0</th>\n",
       "      <td>569</td>\n",
       "      <td>Acapulco</td>\n",
       "      <td>MX</td>\n",
       "      <td>82.22</td>\n",
       "      <td>broken clouds</td>\n",
       "      <td>16.8634</td>\n",
       "      <td>-99.8901</td>\n",
       "      <td>HS Hotsson Smart Acapulco</td>\n",
       "    </tr>\n",
       "    <tr>\n",
       "      <th>1</th>\n",
       "      <td>499</td>\n",
       "      <td>Pinotepa Nacional</td>\n",
       "      <td>MX</td>\n",
       "      <td>86.68</td>\n",
       "      <td>overcast clouds</td>\n",
       "      <td>16.3167</td>\n",
       "      <td>-98.0167</td>\n",
       "      <td>Hotel Maria Del Carmen</td>\n",
       "    </tr>\n",
       "    <tr>\n",
       "      <th>2</th>\n",
       "      <td>198</td>\n",
       "      <td>Puerto Escondido</td>\n",
       "      <td>MX</td>\n",
       "      <td>85.42</td>\n",
       "      <td>broken clouds</td>\n",
       "      <td>15.8500</td>\n",
       "      <td>-97.0667</td>\n",
       "      <td>Aldea del Bazar Hotel and Spa</td>\n",
       "    </tr>\n",
       "    <tr>\n",
       "      <th>3</th>\n",
       "      <td>185</td>\n",
       "      <td>Pochutla</td>\n",
       "      <td>MX</td>\n",
       "      <td>84.81</td>\n",
       "      <td>scattered clouds</td>\n",
       "      <td>15.7432</td>\n",
       "      <td>-96.4661</td>\n",
       "      <td>Hotel Posada San Jose</td>\n",
       "    </tr>\n",
       "    <tr>\n",
       "      <th>4</th>\n",
       "      <td>569</td>\n",
       "      <td>Acapulco</td>\n",
       "      <td>MX</td>\n",
       "      <td>82.22</td>\n",
       "      <td>broken clouds</td>\n",
       "      <td>16.8634</td>\n",
       "      <td>-99.8901</td>\n",
       "      <td>HS Hotsson Smart Acapulco</td>\n",
       "    </tr>\n",
       "  </tbody>\n",
       "</table>\n",
       "</div>"
      ],
      "text/plain": [
       "   City_ID               City Country  Max Temp Current Description      Lat  \\\n",
       "0      569           Acapulco      MX     82.22       broken clouds  16.8634   \n",
       "1      499  Pinotepa Nacional      MX     86.68     overcast clouds  16.3167   \n",
       "2      198   Puerto Escondido      MX     85.42       broken clouds  15.8500   \n",
       "3      185           Pochutla      MX     84.81    scattered clouds  15.7432   \n",
       "4      569           Acapulco      MX     82.22       broken clouds  16.8634   \n",
       "\n",
       "       Lng                     Hotel Name  \n",
       "0 -99.8901      HS Hotsson Smart Acapulco  \n",
       "1 -98.0167         Hotel Maria Del Carmen  \n",
       "2 -97.0667  Aldea del Bazar Hotel and Spa  \n",
       "3 -96.4661          Hotel Posada San Jose  \n",
       "4 -99.8901      HS Hotsson Smart Acapulco  "
      ]
     },
     "execution_count": 26,
     "metadata": {},
     "output_type": "execute_result"
    }
   ],
   "source": [
    "# 8. To create a marker layer map between the four cities.\n",
    "#  Combine the four city DataFrames into one DataFrame using the concat() function.\n",
    "itinerary_df = pd.concat([vacation_start, vacation_stop1, vacation_stop2, vacation_stop3, vacation_end],ignore_index=True)\n",
    "itinerary_df"
   ]
  },
  {
   "cell_type": "code",
   "execution_count": 28,
   "metadata": {},
   "outputs": [],
   "source": [
    "# 9 Using the template add city name, the country code, the weather description and maximum temperature for the city. \n",
    "info_box_template = \"\"\"\n",
    "<dl>\n",
    "<dt>Hotel Name</dt><dd>{Hotel Name}</dd>\n",
    "<dt>City</dt><dd>{City}</dd>\n",
    "<dt>Country</dt><dd>{Country}</dd>\n",
    "<dt>Current Weather</dt><dd>{Current Description} and {Max Temp} °F</dd>\n",
    "</dl>\n",
    "\"\"\"\n",
    "\n",
    "# 10a Get the data from each row and add it to the formatting template and store the data in a list.\n",
    "itinerary_info = [info_box_template.format(**row) for index, row in itinerary_df.iterrows()]\n",
    "\n",
    "# 10b. Get the latitude and longitude from each row and store in a new DataFrame.\n",
    "locations = itinerary_df[[\"Lat\", \"Lng\"]]"
   ]
  },
  {
   "cell_type": "code",
   "execution_count": 29,
   "metadata": {},
   "outputs": [
    {
     "data": {
      "application/vnd.jupyter.widget-view+json": {
       "model_id": "48f5bd76636a4da99637be05bc90f1cf",
       "version_major": 2,
       "version_minor": 0
      },
      "text/plain": [
       "Figure(layout=FigureLayout(height='420px'))"
      ]
     },
     "metadata": {},
     "output_type": "display_data"
    }
   ],
   "source": [
    "# 11a. Add a marker layer for each city to the map.\n",
    "fig = gmaps.figure()\n",
    "marker_layer = gmaps.marker_layer(locations, info_box_content=itinerary_info)\n",
    "fig.add_layer(marker_layer)\n",
    "\n",
    "# 11b. Display the figure\n",
    "fig"
   ]
  },
  {
   "cell_type": "code",
   "execution_count": null,
   "metadata": {},
   "outputs": [],
   "source": []
  }
 ],
 "metadata": {
  "kernelspec": {
   "display_name": "Python 3 (ipykernel)",
   "language": "python",
   "name": "python3"
  },
  "language_info": {
   "codemirror_mode": {
    "name": "ipython",
    "version": 3
   },
   "file_extension": ".py",
   "mimetype": "text/x-python",
   "name": "python",
   "nbconvert_exporter": "python",
   "pygments_lexer": "ipython3",
   "version": "3.7.13"
  },
  "latex_envs": {
   "LaTeX_envs_menu_present": true,
   "autoclose": false,
   "autocomplete": true,
   "bibliofile": "biblio.bib",
   "cite_by": "apalike",
   "current_citInitial": 1,
   "eqLabelWithNumbers": true,
   "eqNumInitial": 1,
   "hotkeys": {
    "equation": "Ctrl-E",
    "itemize": "Ctrl-I"
   },
   "labels_anchors": false,
   "latex_user_defs": false,
   "report_style_numbering": false,
   "user_envs_cfg": false
  }
 },
 "nbformat": 4,
 "nbformat_minor": 2
}
