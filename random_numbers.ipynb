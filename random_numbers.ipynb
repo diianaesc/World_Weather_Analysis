{
 "cells": [
  {
   "cell_type": "markdown",
   "id": "8f551388",
   "metadata": {},
   "source": [
    "# Generate Random Latitudes and Longitudes"
   ]
  },
  {
   "cell_type": "code",
   "execution_count": 1,
   "id": "756721d0",
   "metadata": {},
   "outputs": [],
   "source": [
    "import random"
   ]
  },
  {
   "cell_type": "code",
   "execution_count": 2,
   "id": "9015ef95",
   "metadata": {},
   "outputs": [
    {
     "data": {
      "text/plain": [
       "-61"
      ]
     },
     "execution_count": 2,
     "metadata": {},
     "output_type": "execute_result"
    }
   ],
   "source": [
    "random.randint(-90, 90)"
   ]
  },
  {
   "cell_type": "code",
   "execution_count": 3,
   "id": "d978c66d",
   "metadata": {},
   "outputs": [
    {
     "data": {
      "text/plain": [
       "0.9853663380945743"
      ]
     },
     "execution_count": 3,
     "metadata": {},
     "output_type": "execute_result"
    }
   ],
   "source": [
    "random.random()"
   ]
  },
  {
   "cell_type": "code",
   "execution_count": 4,
   "id": "6ff4742b",
   "metadata": {},
   "outputs": [
    {
     "data": {
      "text/plain": [
       "-49.553011033872004"
      ]
     },
     "execution_count": 4,
     "metadata": {},
     "output_type": "execute_result"
    }
   ],
   "source": [
    "random_number = random.randint(-90, 89) + random.random()\n",
    "random_number"
   ]
  },
  {
   "cell_type": "code",
   "execution_count": 5,
   "id": "37b42200",
   "metadata": {},
   "outputs": [
    {
     "data": {
      "text/plain": [
       "[-22.30797678087152,\n",
       " -20.82330253627814,\n",
       " -67.84925093141737,\n",
       " 82.16514492295119,\n",
       " 55.63178890974499,\n",
       " 63.98601018613557,\n",
       " -42.84969141421048,\n",
       " -5.178070696939426,\n",
       " -44.8790659301397,\n",
       " 56.458236159982384]"
      ]
     },
     "execution_count": 5,
     "metadata": {},
     "output_type": "execute_result"
    }
   ],
   "source": [
    "x = 1\n",
    "latitudes = []\n",
    "while x < 11:\n",
    "    random_lat = random.randint(-90, 89) + random.random()\n",
    "    latitudes.append(random_lat)\n",
    "    x += 1\n",
    "    \n",
    "latitudes"
   ]
  },
  {
   "cell_type": "markdown",
   "id": "7bb5d78e",
   "metadata": {},
   "source": [
    "## The randrange() Function"
   ]
  },
  {
   "cell_type": "code",
   "execution_count": 6,
   "id": "fd051c16",
   "metadata": {},
   "outputs": [
    {
     "data": {
      "text/plain": [
       "80"
      ]
     },
     "execution_count": 6,
     "metadata": {},
     "output_type": "execute_result"
    }
   ],
   "source": [
    "random.randrange(-90, 90, step=1)"
   ]
  },
  {
   "cell_type": "markdown",
   "id": "5bc178a0",
   "metadata": {},
   "source": [
    "## The uniform() Function"
   ]
  },
  {
   "cell_type": "code",
   "execution_count": 7,
   "id": "28011c5f",
   "metadata": {},
   "outputs": [
    {
     "data": {
      "text/plain": [
       "88.72069964105191"
      ]
     },
     "execution_count": 7,
     "metadata": {},
     "output_type": "execute_result"
    }
   ],
   "source": [
    "random.uniform(-90, 90)"
   ]
  },
  {
   "cell_type": "markdown",
   "id": "13f54e7f",
   "metadata": {},
   "source": [
    "# The NumPy and random Modules\n"
   ]
  },
  {
   "cell_type": "code",
   "execution_count": 8,
   "id": "25df7b52",
   "metadata": {},
   "outputs": [],
   "source": [
    "# Import the NumPy module\n",
    "import numpy as np"
   ]
  },
  {
   "cell_type": "code",
   "execution_count": 15,
   "id": "df03c6b6",
   "metadata": {},
   "outputs": [
    {
     "data": {
      "text/plain": [
       "19.997346313393734"
      ]
     },
     "execution_count": 15,
     "metadata": {},
     "output_type": "execute_result"
    }
   ],
   "source": [
    "np.random.uniform(-90.000, 90.000)"
   ]
  },
  {
   "cell_type": "code",
   "execution_count": 16,
   "id": "fe3d1cd2",
   "metadata": {},
   "outputs": [
    {
     "data": {
      "text/plain": [
       "-76.90556306814005"
      ]
     },
     "execution_count": 16,
     "metadata": {},
     "output_type": "execute_result"
    }
   ],
   "source": [
    "np.random.uniform(low=-90, high=90)"
   ]
  },
  {
   "cell_type": "code",
   "execution_count": 17,
   "id": "5e2c6002",
   "metadata": {},
   "outputs": [
    {
     "data": {
      "text/plain": [
       "array([-63.1045117 , -27.20000012, -26.90028455, -35.92481286,\n",
       "       -16.65989813,  89.68223933,   7.02745114, -87.27886592,\n",
       "        73.50242279,  40.86847388,  50.30003528, -31.35971767,\n",
       "        -5.02781082,  16.30337715, -70.97142268, -53.69164567,\n",
       "       -48.99994981,  31.53439236,   6.77398517, -10.69103772,\n",
       "       -39.63637455, -32.56804405, -82.24181654, -78.48386407,\n",
       "       -42.13577714, -49.1391944 , -82.90691077, -15.17377663,\n",
       "        61.25674579,  55.75775241,  29.67320151,  -7.56269616,\n",
       "        67.61551438, -41.06126596,  49.3020623 ,  23.2402811 ,\n",
       "       -43.81442158,  80.3472051 , -42.3125428 , -45.42736372,\n",
       "       -85.99715001, -67.32305742,  87.05325187, -79.92590322,\n",
       "       -76.57607281,  82.23955087, -51.78948912,  70.97921653,\n",
       "        65.83805664,  18.92727815])"
      ]
     },
     "execution_count": 17,
     "metadata": {},
     "output_type": "execute_result"
    }
   ],
   "source": [
    "np.random.uniform(-90.000, 90.000, size=50)"
   ]
  },
  {
   "cell_type": "code",
   "execution_count": 18,
   "id": "4e49ea6a",
   "metadata": {},
   "outputs": [],
   "source": [
    "# Import timeit\n",
    "import timeit"
   ]
  },
  {
   "cell_type": "code",
   "execution_count": 19,
   "id": "7dc6c1ad",
   "metadata": {},
   "outputs": [
    {
     "name": "stdout",
     "output_type": "stream",
     "text": [
      "12.7 µs ± 70.5 ns per loop (mean ± std. dev. of 7 runs, 100,000 loops each)\n"
     ]
    }
   ],
   "source": [
    "%timeit np.random.uniform(-90.000, 90.000, size=1500)"
   ]
  },
  {
   "cell_type": "code",
   "execution_count": 20,
   "id": "fa391778",
   "metadata": {},
   "outputs": [
    {
     "name": "stdout",
     "output_type": "stream",
     "text": [
      "1.23 ms ± 4.23 µs per loop (mean ± std. dev. of 7 runs, 1,000 loops each)\n"
     ]
    }
   ],
   "source": [
    "def latitudes(size):\n",
    "    latitudes = []\n",
    "    x = 0\n",
    "    while x < (size):\n",
    "        random_lat = random.randint(-90, 90) + random.random()\n",
    "        latitudes.append(random_lat)\n",
    "        x += 1\n",
    "    return latitudes\n",
    "# Call the function with 1500.\n",
    "%timeit latitudes(1500)"
   ]
  },
  {
   "cell_type": "code",
   "execution_count": null,
   "id": "2ba8a4a7",
   "metadata": {},
   "outputs": [],
   "source": []
  }
 ],
 "metadata": {
  "kernelspec": {
   "display_name": "PythonData",
   "language": "python",
   "name": "pythondata"
  },
  "language_info": {
   "codemirror_mode": {
    "name": "ipython",
    "version": 3
   },
   "file_extension": ".py",
   "mimetype": "text/x-python",
   "name": "python",
   "nbconvert_exporter": "python",
   "pygments_lexer": "ipython3",
   "version": "3.9.12"
  }
 },
 "nbformat": 4,
 "nbformat_minor": 5
}
